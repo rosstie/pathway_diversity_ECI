{
 "cells": [
  {
   "cell_type": "code",
   "execution_count": 1,
   "metadata": {},
   "outputs": [],
   "source": [
    "#import libraries\n",
    "\n",
    "import networkx as nx\n",
    "import random\n"
   ]
  },
  {
   "cell_type": "code",
   "execution_count": 3,
   "metadata": {},
   "outputs": [],
   "source": [
    "#create a random graph \n",
    "# Example: Creating a random network with 10 nodes and 20 edges\n",
    "G = nx.random_geometric_graph(10, 0.2)\n"
   ]
  },
  {
   "cell_type": "code",
   "execution_count": 5,
   "metadata": {},
   "outputs": [
    {
     "data": {
      "text/plain": [
       "<networkx.classes.graph.Graph at 0x7ff55b9b4f50>"
      ]
     },
     "execution_count": 5,
     "metadata": {},
     "output_type": "execute_result"
    }
   ],
   "source": [
    "def generate_connection_probs(num_nodes):\n",
    "  \"\"\"\n",
    "  Generates a dictionary of random connection probabilities for each node.\n",
    "\n",
    "  Args:\n",
    "      num_nodes (int): The number of nodes in the network.\n",
    "\n",
    "  Returns:\n",
    "      dict: A dictionary where keys are nodes and values are dictionaries representing \n",
    "           probabilities of connecting to other nodes (excluding itself).\n",
    "  \"\"\"\n",
    "  connection_probs = {}\n",
    "  for node in range(num_nodes):\n",
    "    # Generate random probabilities for connecting to other nodes (0 to 1)\n",
    "    probs = [random.random() for _ in range(num_nodes) if _ != node]\n",
    "    # Normalize probabilities to sum to 1\n",
    "    total_prob = sum(probs)\n",
    "    connection_probs[node] = {i: prob / total_prob for i, prob in enumerate(probs)}\n",
    "  return connection_probs"
   ]
  },
  {
   "cell_type": "code",
   "execution_count": null,
   "metadata": {},
   "outputs": [],
   "source": [
    "# Example: Evolve the network for 5 steps\n",
    "for i in range(5):\n",
    "  # Iterate through existing nodes\n",
    "  for node in G.nodes():\n",
    "    # Check if the node has any connection possibility based on probabilities\n",
    "    if node in connection_probs:\n",
    "      # Randomly choose a new node to connect to based on probabilities\n",
    "      new_node = random.choices(list(connection_probs[node].keys()), weights=list(connection_probs[node].values()))[0]\n",
    "      # Add the edge to the network with a certain probability (optional)\n",
    "      if random.random() < 0.9:  # 90% chance of adding the edge\n",
    "        G.add_edge(node, new_node)\n"
   ]
  }
 ],
 "metadata": {
  "kernelspec": {
   "display_name": "pathway_diversity_ECI",
   "language": "python",
   "name": "python3"
  },
  "language_info": {
   "codemirror_mode": {
    "name": "ipython",
    "version": 3
   },
   "file_extension": ".py",
   "mimetype": "text/x-python",
   "name": "python",
   "nbconvert_exporter": "python",
   "pygments_lexer": "ipython3",
   "version": "3.11.8"
  }
 },
 "nbformat": 4,
 "nbformat_minor": 2
}
